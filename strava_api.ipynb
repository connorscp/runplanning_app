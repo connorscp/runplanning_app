{
 "cells": [
  {
   "cell_type": "code",
   "execution_count": 7,
   "metadata": {
    "collapsed": false
   },
   "outputs": [],
   "source": [
    "import simplejson\n",
    "import json\n",
    "from stravalib import Client"
   ]
  },
  {
   "cell_type": "code",
   "execution_count": null,
   "metadata": {
    "collapsed": false
   },
   "outputs": [],
   "source": [
    "with open(\"secrets/strava_secrets.json.nogit\") as fh:\n",
    "    secrets = simplejson.loads(fh.read())\n",
    "\n",
    "client = Client(secrets[\"access_token\"])\n",
    "athlete = client.get_athlete()\n",
    "\n",
    "print(\"For {id}, I now have an access token {token}\".format(id=athlete.id, token=client))\n",
    "print(\"Hello, {}. I know your email is {}\".format(athlete.firstname, athlete.email))"
   ]
  },
  {
   "cell_type": "code",
   "execution_count": null,
   "metadata": {
    "collapsed": true
   },
   "outputs": [],
   "source": []
  },
  {
   "cell_type": "code",
   "execution_count": null,
   "metadata": {
    "collapsed": true
   },
   "outputs": [],
   "source": [
    "https://strava-test.herokuapp.com/"
   ]
  },
  {
   "cell_type": "code",
   "execution_count": null,
   "metadata": {
    "collapsed": true
   },
   "outputs": [],
   "source": [
    "# Request access url\n",
    "https://www.strava.com/oauth/authorize?client_id=12011&response_type=code&redirect_uri=https://strava-test.herokuapp.com/&scope=view_private&state=mystate&approval_prompt=force"
   ]
  },
  {
   "cell_type": "code",
   "execution_count": null,
   "metadata": {
    "collapsed": true
   },
   "outputs": [],
   "source": []
  },
  {
   "cell_type": "code",
   "execution_count": null,
   "metadata": {
    "collapsed": true
   },
   "outputs": [],
   "source": [
    "#Make the phone book:\n",
    "phonebook = {'Andrew Parson':8806336, \\\n",
    "'Emily Everett':6784346, 'Peter Power':7658344, \\\n",
    "'Lewis Lame':1122345}"
   ]
  },
  {
   "cell_type": "code",
   "execution_count": null,
   "metadata": {
    "collapsed": true
   },
   "outputs": [],
   "source": [
    "phonebook['Gingerbread Man'] = 1234567"
   ]
  },
  {
   "cell_type": "code",
   "execution_count": null,
   "metadata": {
    "collapsed": true
   },
   "outputs": [],
   "source": []
  },
  {
   "cell_type": "code",
   "execution_count": null,
   "metadata": {
    "collapsed": false
   },
   "outputs": [],
   "source": [
    "# For my yahoo account\n",
    "token = 'adcbb1241d818f46431a8bfaaf647f340bb9c809'\n",
    "client = Client(token)\n",
    "athlete = client.get_athlete()\n",
    "\n",
    "print(\"For {id}, I now have an access token {token}\".format(id=athlete.id, token=client))\n",
    "print(\"Hello, {}. I know your email is {}\".format(athlete.firstname, athlete.email))"
   ]
  },
  {
   "cell_type": "code",
   "execution_count": null,
   "metadata": {
    "collapsed": false
   },
   "outputs": [],
   "source": [
    "username = athlete.username\n",
    "print username"
   ]
  },
  {
   "cell_type": "code",
   "execution_count": null,
   "metadata": {
    "collapsed": false
   },
   "outputs": [],
   "source": [
    "# Add yahoo email to tokens (col_conn, adcbb1241d818f46431a8bfaaf647f340bb9c809)\n",
    "import json\n",
    "\n",
    "user = {\n",
    "   'username' : username,\n",
    "   'access_token' : token\n",
    "}\n",
    "\n",
    "json_str = json.dumps(user)\n",
    "\n",
    "# Writing JSON data\n",
    "with open('tokens/tokens.json', 'w') as f:\n",
    "     json.dump(user, f)"
   ]
  },
  {
   "cell_type": "code",
   "execution_count": null,
   "metadata": {
    "collapsed": false
   },
   "outputs": [],
   "source": [
    "# Add gmail email to tokens (connors_colin, 2345ac833e6278e013165fc7101d42edf68956e2)\n",
    "with open(\"secrets/strava_secrets.json.nogit\") as fh:\n",
    "    secrets = simplejson.loads(fh.read())\n",
    "\n",
    "token = secrets[\"access_token\"]\n",
    "client = Client(token)\n",
    "athlete = client.get_athlete()\n",
    "username = athlete.username\n",
    "\n",
    "\n",
    "user = {\n",
    "   'username' : username,\n",
    "   'access_token' : token\n",
    "}\n",
    "\n",
    "json_str = json.dumps(user)\n",
    "\n",
    "# Writing JSON data\n",
    "with open('tokens/tokens.json', 'w') as f:\n",
    "     json.dump(user, f)"
   ]
  },
  {
   "cell_type": "code",
   "execution_count": null,
   "metadata": {
    "collapsed": true
   },
   "outputs": [],
   "source": []
  },
  {
   "cell_type": "code",
   "execution_count": null,
   "metadata": {
    "collapsed": true
   },
   "outputs": [],
   "source": []
  },
  {
   "cell_type": "code",
   "execution_count": null,
   "metadata": {
    "collapsed": true
   },
   "outputs": [],
   "source": []
  },
  {
   "cell_type": "code",
   "execution_count": null,
   "metadata": {
    "collapsed": true
   },
   "outputs": [],
   "source": []
  },
  {
   "cell_type": "code",
   "execution_count": null,
   "metadata": {
    "collapsed": true
   },
   "outputs": [],
   "source": []
  },
  {
   "cell_type": "code",
   "execution_count": 8,
   "metadata": {
    "collapsed": false
   },
   "outputs": [
    {
     "name": "stdout",
     "output_type": "stream",
     "text": [
      "connors_colin\n",
      "2345ac833e6278e013165fc7101d42edf68956e2\n"
     ]
    }
   ],
   "source": [
    "# Add gmail email to tokens (connors_colin, 2345ac833e6278e013165fc7101d42edf68956e2)\n",
    "with open(\"secrets/strava_secrets.json.nogit\") as fh:\n",
    "    secrets = simplejson.loads(fh.read())\n",
    "\n",
    "token = secrets[\"access_token\"]\n",
    "client = Client(token)\n",
    "athlete = client.get_athlete()\n",
    "username = athlete.username\n",
    "print username\n",
    "print token\n",
    "\n",
    "user_tokens = {}\n",
    "user_tokens[username] = token\n",
    "\n",
    "#json_str = json.dumps(users)\n",
    "\n",
    "# Writing JSON data\n",
    "with open('tokens/tokens.json', 'w') as f:\n",
    "     json.dump(user_tokens, f)"
   ]
  },
  {
   "cell_type": "code",
   "execution_count": 9,
   "metadata": {
    "collapsed": false
   },
   "outputs": [
    {
     "name": "stdout",
     "output_type": "stream",
     "text": [
      "For 15786084, I now have an access token <stravalib.client.Client object at 0x7f5cd0a648d0>\n",
      "Hello, Col. I know your email is cchockey262@yahoo.com\n",
      "col_conn\n"
     ]
    }
   ],
   "source": [
    "# For my yahoo account\n",
    "token = '65418aaece0697f15d8b9b8ff0a7a64a300af226'\n",
    "client = Client(token)\n",
    "athlete = client.get_athlete()\n",
    "\n",
    "print(\"For {id}, I now have an access token {token}\".format(id=athlete.id, token=client))\n",
    "print(\"Hello, {}. I know your email is {}\".format(athlete.firstname, athlete.email))\n",
    "\n",
    "\n",
    "\n",
    "username = athlete.username\n",
    "print username\n",
    "\n",
    "\n",
    "\n",
    "# Add yahoo email to tokens (col_conn, adcbb1241d818f46431a8bfaaf647f340bb9c809)\n",
    "import json\n",
    "\n",
    "user_tokens[username] = token\n",
    "\n",
    "#json_str = json.dumps(user)\n",
    "\n",
    "# Writing JSON data\n",
    "with open('tokens/tokens.json', 'w') as f:\n",
    "     json.dump(user_tokens, f)"
   ]
  }
 ],
 "metadata": {
  "kernelspec": {
   "display_name": "Python 2",
   "language": "python",
   "name": "python2"
  },
  "language_info": {
   "codemirror_mode": {
    "name": "ipython",
    "version": 2
   },
   "file_extension": ".py",
   "mimetype": "text/x-python",
   "name": "python",
   "nbconvert_exporter": "python",
   "pygments_lexer": "ipython2",
   "version": "2.7.11"
  }
 },
 "nbformat": 4,
 "nbformat_minor": 0
}
